{
 "cells": [
  {
   "cell_type": "code",
   "execution_count": 1,
   "id": "09552122-35a8-48e8-9f8e-290cf29a4000",
   "metadata": {},
   "outputs": [],
   "source": [
    "import pandas as pd\n",
    "import seaborn as sns\n",
    "import tensorflow\n",
    "import cv2\n",
    "from tensorflow import keras\n",
    "from tensorflow.keras import layers\n",
    "import tensorflow as tf\n",
    "from tensorflow.keras.utils import to_categorical\n",
    "from tensorflow.keras.applications.vgg16 import preprocess_input\n",
    "from tensorflow.keras.callbacks import EarlyStopping\n",
    "from tensorflow.keras.applications import Xception\n",
    "from tensorflow.keras.layers import Dense,Flatten,Input,Dropout\n",
    "from tensorflow.keras.models import Model\n",
    "from tensorflow.keras.preprocessing import image\n",
    "from tensorflow.keras.preprocessing.image import ImageDataGenerator as IDG, load_img\n",
    "from tensorflow.keras import layers,models\n",
    "from tensorflow.keras.models import Sequential\n",
    "from tensorflow.keras.layers import SeparableConv2D,BatchNormalization,GlobalAveragePooling2D,MaxPooling2D,concatenate, Conv2DTranspose,Conv2D\n",
    "from tensorflow.keras.models import load_model\n",
    "from PIL import Image\n",
    "import numpy as np\n",
    "import matplotlib.pyplot as plt\n",
    "import os\n",
    "import random\n",
    "import shutil"
   ]
  },
  {
   "cell_type": "code",
   "execution_count": 2,
   "id": "a79a1468-bb20-4022-a843-e62b38aaebf1",
   "metadata": {},
   "outputs": [],
   "source": [
    "\n",
    "def split_data(source_folder, train_folder, test_folder, split_ratio=0.8):\n",
    "    # Create output folders if they don't exist\n",
    "    os.makedirs(train_folder, exist_ok=True)\n",
    "    os.makedirs(test_folder, exist_ok=True)\n",
    "\n",
    "    # Get all files from the source folder\n",
    "    all_files = [f for f in os.listdir(source_folder) if os.path.isfile(os.path.join(source_folder, f))]\n",
    "    \n",
    "    # Shuffle the files randomly\n",
    "    random.shuffle(all_files)\n",
    "    \n",
    "    # Calculate the split index\n",
    "    split_index = int(len(all_files) * split_ratio)\n",
    "    \n",
    "    # Split the files into training and testing sets\n",
    "    train_files = all_files[:split_index]\n",
    "    test_files = all_files[split_index:]\n",
    "    \n",
    "    # Move files to respective folders\n",
    "    for file in train_files:\n",
    "        shutil.copy(os.path.join(source_folder, file), os.path.join(train_folder, file))\n",
    "    \n",
    "    for file in test_files:\n",
    "        shutil.copy(os.path.join(source_folder, file), os.path.join(test_folder, file))\n",
    "    \n",
    "    print(f\"Total images: {len(all_files)}\")\n",
    "    print(f\"Training images: {len(train_files)}\")\n",
    "    print(f\"Testing images: {len(test_files)}\")\n",
    "\n"
   ]
  },
  {
   "cell_type": "code",
   "execution_count": 5,
   "id": "99e3a9a8-8111-491b-9484-f8584a27f6b6",
   "metadata": {},
   "outputs": [
    {
     "name": "stdout",
     "output_type": "stream",
     "text": [
      "Total images: 3709\n",
      "Training images: 2967\n",
      "Testing images: 742\n"
     ]
    }
   ],
   "source": [
    "source_folder = r\"D:\\Datasets\\CT-KIDNEY-DATASET-Normal-Cyst-Tumor-Stone\\Cyst\"\n",
    "train_folder = r\"D:\\Datasets\\Kidney Dataset\\Train\\Cyst\"\n",
    "test_folder = r\"D:\\Datasets\\Kidney Dataset\\Test\\Cyst\"\n",
    "split_ratio = 0.8\n",
    "\n",
    "split_data(source_folder, train_folder, test_folder, split_ratio)"
   ]
  },
  {
   "cell_type": "code",
   "execution_count": 6,
   "id": "ce1914c7-632b-421a-816a-f049a9b5012e",
   "metadata": {},
   "outputs": [
    {
     "name": "stdout",
     "output_type": "stream",
     "text": [
      "Total images: 5077\n",
      "Training images: 4061\n",
      "Testing images: 1016\n"
     ]
    }
   ],
   "source": [
    "source_folder = r\"D:\\Datasets\\CT-KIDNEY-DATASET-Normal-Cyst-Tumor-Stone\\Normal\"\n",
    "train_folder = r\"D:\\Datasets\\Kidney Dataset\\Train\\Normal\"\n",
    "test_folder = r\"D:\\Datasets\\Kidney Dataset\\Test\\Normal\"\n",
    "split_ratio = 0.8\n",
    "\n",
    "split_data(source_folder, train_folder, test_folder, split_ratio)"
   ]
  },
  {
   "cell_type": "code",
   "execution_count": 7,
   "id": "edafe094-9eb6-408e-a9cb-90cfe57d974f",
   "metadata": {},
   "outputs": [
    {
     "name": "stdout",
     "output_type": "stream",
     "text": [
      "Total images: 1377\n",
      "Training images: 1101\n",
      "Testing images: 276\n"
     ]
    }
   ],
   "source": [
    "source_folder = r\"D:\\Datasets\\CT-KIDNEY-DATASET-Normal-Cyst-Tumor-Stone\\Stone\"\n",
    "train_folder = r\"D:\\Datasets\\Kidney Dataset\\Train\\Stone\"\n",
    "test_folder = r\"D:\\Datasets\\Kidney Dataset\\Test\\Stone\"\n",
    "split_ratio = 0.8\n",
    "\n",
    "split_data(source_folder, train_folder, test_folder, split_ratio)"
   ]
  },
  {
   "cell_type": "code",
   "execution_count": 8,
   "id": "f60e53f1-a216-4c4d-ae18-f944c5cebc8e",
   "metadata": {},
   "outputs": [
    {
     "name": "stdout",
     "output_type": "stream",
     "text": [
      "Total images: 2283\n",
      "Training images: 1826\n",
      "Testing images: 457\n"
     ]
    }
   ],
   "source": [
    "source_folder = r\"D:\\Datasets\\CT-KIDNEY-DATASET-Normal-Cyst-Tumor-Stone\\Tumor\"\n",
    "train_folder = r\"D:\\Datasets\\Kidney Dataset\\Train\\Tumor\"\n",
    "test_folder = r\"D:\\Datasets\\Kidney Dataset\\Test\\Tumor\"\n",
    "split_ratio = 0.8\n",
    "\n",
    "split_data(source_folder, train_folder, test_folder, split_ratio)"
   ]
  },
  {
   "cell_type": "code",
   "execution_count": null,
   "id": "70d5d130-15f5-4d92-8c31-c2c6d53e542a",
   "metadata": {},
   "outputs": [],
   "source": []
  }
 ],
 "metadata": {
  "kernelspec": {
   "display_name": "Python 3 (ipykernel)",
   "language": "python",
   "name": "python3"
  },
  "language_info": {
   "codemirror_mode": {
    "name": "ipython",
    "version": 3
   },
   "file_extension": ".py",
   "mimetype": "text/x-python",
   "name": "python",
   "nbconvert_exporter": "python",
   "pygments_lexer": "ipython3",
   "version": "3.11.4"
  }
 },
 "nbformat": 4,
 "nbformat_minor": 5
}
